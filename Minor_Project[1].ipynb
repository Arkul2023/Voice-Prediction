{
 "cells": [
  {
   "cell_type": "code",
   "execution_count": 5,
   "id": "846a9bc0",
   "metadata": {},
   "outputs": [],
   "source": [
    "import pandas as pd\n",
    "import numpy as np\n",
    "import matplotlib.pyplot as plt"
   ]
  },
  {
   "cell_type": "code",
   "execution_count": 8,
   "id": "d2b03d64",
   "metadata": {},
   "outputs": [
    {
     "data": {
      "text/html": [
       "<div>\n",
       "<style scoped>\n",
       "    .dataframe tbody tr th:only-of-type {\n",
       "        vertical-align: middle;\n",
       "    }\n",
       "\n",
       "    .dataframe tbody tr th {\n",
       "        vertical-align: top;\n",
       "    }\n",
       "\n",
       "    .dataframe thead th {\n",
       "        text-align: right;\n",
       "    }\n",
       "</style>\n",
       "<table border=\"1\" class=\"dataframe\">\n",
       "  <thead>\n",
       "    <tr style=\"text-align: right;\">\n",
       "      <th></th>\n",
       "      <th>meanfreq</th>\n",
       "      <th>sd</th>\n",
       "      <th>median</th>\n",
       "      <th>Q25</th>\n",
       "      <th>Q75</th>\n",
       "      <th>IQR</th>\n",
       "      <th>skew</th>\n",
       "      <th>kurt</th>\n",
       "      <th>sp.ent</th>\n",
       "      <th>sfm</th>\n",
       "      <th>...</th>\n",
       "      <th>centroid</th>\n",
       "      <th>meanfun</th>\n",
       "      <th>minfun</th>\n",
       "      <th>maxfun</th>\n",
       "      <th>meandom</th>\n",
       "      <th>mindom</th>\n",
       "      <th>maxdom</th>\n",
       "      <th>dfrange</th>\n",
       "      <th>modindx</th>\n",
       "      <th>label</th>\n",
       "    </tr>\n",
       "  </thead>\n",
       "  <tbody>\n",
       "    <tr>\n",
       "      <th>0</th>\n",
       "      <td>0.059781</td>\n",
       "      <td>0.064241</td>\n",
       "      <td>0.032027</td>\n",
       "      <td>0.015071</td>\n",
       "      <td>0.090193</td>\n",
       "      <td>0.075122</td>\n",
       "      <td>12.863462</td>\n",
       "      <td>274.402906</td>\n",
       "      <td>0.893369</td>\n",
       "      <td>0.491918</td>\n",
       "      <td>...</td>\n",
       "      <td>0.059781</td>\n",
       "      <td>0.084279</td>\n",
       "      <td>0.015702</td>\n",
       "      <td>0.275862</td>\n",
       "      <td>0.007812</td>\n",
       "      <td>0.007812</td>\n",
       "      <td>0.007812</td>\n",
       "      <td>0.000000</td>\n",
       "      <td>0.000000</td>\n",
       "      <td>male</td>\n",
       "    </tr>\n",
       "    <tr>\n",
       "      <th>1</th>\n",
       "      <td>0.066009</td>\n",
       "      <td>0.067310</td>\n",
       "      <td>0.040229</td>\n",
       "      <td>0.019414</td>\n",
       "      <td>0.092666</td>\n",
       "      <td>0.073252</td>\n",
       "      <td>22.423285</td>\n",
       "      <td>634.613855</td>\n",
       "      <td>0.892193</td>\n",
       "      <td>0.513724</td>\n",
       "      <td>...</td>\n",
       "      <td>0.066009</td>\n",
       "      <td>0.107937</td>\n",
       "      <td>0.015826</td>\n",
       "      <td>0.250000</td>\n",
       "      <td>0.009014</td>\n",
       "      <td>0.007812</td>\n",
       "      <td>0.054688</td>\n",
       "      <td>0.046875</td>\n",
       "      <td>0.052632</td>\n",
       "      <td>male</td>\n",
       "    </tr>\n",
       "    <tr>\n",
       "      <th>2</th>\n",
       "      <td>0.077316</td>\n",
       "      <td>0.083829</td>\n",
       "      <td>0.036718</td>\n",
       "      <td>0.008701</td>\n",
       "      <td>0.131908</td>\n",
       "      <td>0.123207</td>\n",
       "      <td>30.757155</td>\n",
       "      <td>1024.927705</td>\n",
       "      <td>0.846389</td>\n",
       "      <td>0.478905</td>\n",
       "      <td>...</td>\n",
       "      <td>0.077316</td>\n",
       "      <td>0.098706</td>\n",
       "      <td>0.015656</td>\n",
       "      <td>0.271186</td>\n",
       "      <td>0.007990</td>\n",
       "      <td>0.007812</td>\n",
       "      <td>0.015625</td>\n",
       "      <td>0.007812</td>\n",
       "      <td>0.046512</td>\n",
       "      <td>male</td>\n",
       "    </tr>\n",
       "    <tr>\n",
       "      <th>3</th>\n",
       "      <td>0.151228</td>\n",
       "      <td>0.072111</td>\n",
       "      <td>0.158011</td>\n",
       "      <td>0.096582</td>\n",
       "      <td>0.207955</td>\n",
       "      <td>0.111374</td>\n",
       "      <td>1.232831</td>\n",
       "      <td>4.177296</td>\n",
       "      <td>0.963322</td>\n",
       "      <td>0.727232</td>\n",
       "      <td>...</td>\n",
       "      <td>0.151228</td>\n",
       "      <td>0.088965</td>\n",
       "      <td>0.017798</td>\n",
       "      <td>0.250000</td>\n",
       "      <td>0.201497</td>\n",
       "      <td>0.007812</td>\n",
       "      <td>0.562500</td>\n",
       "      <td>0.554688</td>\n",
       "      <td>0.247119</td>\n",
       "      <td>male</td>\n",
       "    </tr>\n",
       "    <tr>\n",
       "      <th>4</th>\n",
       "      <td>0.135120</td>\n",
       "      <td>0.079146</td>\n",
       "      <td>0.124656</td>\n",
       "      <td>0.078720</td>\n",
       "      <td>0.206045</td>\n",
       "      <td>0.127325</td>\n",
       "      <td>1.101174</td>\n",
       "      <td>4.333713</td>\n",
       "      <td>0.971955</td>\n",
       "      <td>0.783568</td>\n",
       "      <td>...</td>\n",
       "      <td>0.135120</td>\n",
       "      <td>0.106398</td>\n",
       "      <td>0.016931</td>\n",
       "      <td>0.266667</td>\n",
       "      <td>0.712812</td>\n",
       "      <td>0.007812</td>\n",
       "      <td>5.484375</td>\n",
       "      <td>5.476562</td>\n",
       "      <td>0.208274</td>\n",
       "      <td>male</td>\n",
       "    </tr>\n",
       "  </tbody>\n",
       "</table>\n",
       "<p>5 rows × 21 columns</p>\n",
       "</div>"
      ],
      "text/plain": [
       "   meanfreq        sd    median       Q25       Q75       IQR       skew  \\\n",
       "0  0.059781  0.064241  0.032027  0.015071  0.090193  0.075122  12.863462   \n",
       "1  0.066009  0.067310  0.040229  0.019414  0.092666  0.073252  22.423285   \n",
       "2  0.077316  0.083829  0.036718  0.008701  0.131908  0.123207  30.757155   \n",
       "3  0.151228  0.072111  0.158011  0.096582  0.207955  0.111374   1.232831   \n",
       "4  0.135120  0.079146  0.124656  0.078720  0.206045  0.127325   1.101174   \n",
       "\n",
       "          kurt    sp.ent       sfm  ...  centroid   meanfun    minfun  \\\n",
       "0   274.402906  0.893369  0.491918  ...  0.059781  0.084279  0.015702   \n",
       "1   634.613855  0.892193  0.513724  ...  0.066009  0.107937  0.015826   \n",
       "2  1024.927705  0.846389  0.478905  ...  0.077316  0.098706  0.015656   \n",
       "3     4.177296  0.963322  0.727232  ...  0.151228  0.088965  0.017798   \n",
       "4     4.333713  0.971955  0.783568  ...  0.135120  0.106398  0.016931   \n",
       "\n",
       "     maxfun   meandom    mindom    maxdom   dfrange   modindx  label  \n",
       "0  0.275862  0.007812  0.007812  0.007812  0.000000  0.000000   male  \n",
       "1  0.250000  0.009014  0.007812  0.054688  0.046875  0.052632   male  \n",
       "2  0.271186  0.007990  0.007812  0.015625  0.007812  0.046512   male  \n",
       "3  0.250000  0.201497  0.007812  0.562500  0.554688  0.247119   male  \n",
       "4  0.266667  0.712812  0.007812  5.484375  5.476562  0.208274   male  \n",
       "\n",
       "[5 rows x 21 columns]"
      ]
     },
     "execution_count": 8,
     "metadata": {},
     "output_type": "execute_result"
    }
   ],
   "source": [
    "df = pd.read_csv('voice.csv')\n",
    "df.head()"
   ]
  },
  {
   "cell_type": "code",
   "execution_count": 9,
   "id": "9a3e527c",
   "metadata": {},
   "outputs": [
    {
     "data": {
      "text/plain": [
       "(3168, 21)"
      ]
     },
     "execution_count": 9,
     "metadata": {},
     "output_type": "execute_result"
    }
   ],
   "source": [
    "df.shape"
   ]
  },
  {
   "cell_type": "code",
   "execution_count": 10,
   "id": "95cf075c",
   "metadata": {},
   "outputs": [
    {
     "data": {
      "text/plain": [
       "meanfreq    0\n",
       "sd          0\n",
       "median      0\n",
       "Q25         0\n",
       "Q75         0\n",
       "IQR         0\n",
       "skew        0\n",
       "kurt        0\n",
       "sp.ent      0\n",
       "sfm         0\n",
       "mode        0\n",
       "centroid    0\n",
       "meanfun     0\n",
       "minfun      0\n",
       "maxfun      0\n",
       "meandom     0\n",
       "mindom      0\n",
       "maxdom      0\n",
       "dfrange     0\n",
       "modindx     0\n",
       "label       0\n",
       "dtype: int64"
      ]
     },
     "execution_count": 10,
     "metadata": {},
     "output_type": "execute_result"
    }
   ],
   "source": [
    "df.isnull().sum()"
   ]
  },
  {
   "cell_type": "code",
   "execution_count": 11,
   "id": "8eb709e5",
   "metadata": {},
   "outputs": [
    {
     "data": {
      "text/plain": [
       "Index(['meanfreq', 'sd', 'median', 'Q25', 'Q75', 'IQR', 'skew', 'kurt',\n",
       "       'sp.ent', 'sfm', 'mode', 'centroid', 'meanfun', 'minfun', 'maxfun',\n",
       "       'meandom', 'mindom', 'maxdom', 'dfrange', 'modindx', 'label'],\n",
       "      dtype='object')"
      ]
     },
     "execution_count": 11,
     "metadata": {},
     "output_type": "execute_result"
    }
   ],
   "source": [
    "df.columns"
   ]
  },
  {
   "cell_type": "code",
   "execution_count": 18,
   "id": "171c3fb4",
   "metadata": {},
   "outputs": [
    {
     "data": {
      "text/plain": [
       "male      1584\n",
       "female    1584\n",
       "Name: label, dtype: int64"
      ]
     },
     "execution_count": 18,
     "metadata": {},
     "output_type": "execute_result"
    }
   ],
   "source": [
    "r1 = df['label'].value_counts()\n",
    "r1"
   ]
  },
  {
   "cell_type": "code",
   "execution_count": 130,
   "id": "893024be",
   "metadata": {},
   "outputs": [
    {
     "data": {
      "text/plain": [
       "<function matplotlib.pyplot.show(close=None, block=None)>"
      ]
     },
     "execution_count": 130,
     "metadata": {},
     "output_type": "execute_result"
    },
    {
     "data": {
      "image/png": "[encoded data removed]",
      "text/plain": [
       "<Figure size 432x288 with 1 Axes>"
      ]
     },
     "metadata": {
      "needs_background": "light"
     },
     "output_type": "display_data"
    }
   ],
   "source": [
    "plt.bar(r1.index,r1)\n",
    "plt.show"
   ]
  },
  {
   "cell_type": "code",
   "execution_count": 24,
   "id": "0a59bdeb",
   "metadata": {},
   "outputs": [
    {
     "name": "stdout",
     "output_type": "stream",
     "text": [
      "<class 'pandas.core.frame.DataFrame'>\n",
      "<class 'pandas.core.series.Series'>\n",
      "(3168, 20)\n",
      "(3168,)\n"
     ]
    }
   ],
   "source": [
    "x = df.iloc[:,:-1]\n",
    "y = df['label']\n",
    "print(type(x))\n",
    "print(type(y))\n",
    "print(x.shape)\n",
    "print(y.shape)"
   ]
  },
  {
   "cell_type": "code",
   "execution_count": 25,
   "id": "e9dd1358",
   "metadata": {},
   "outputs": [],
   "source": [
    "from sklearn.model_selection import train_test_split"
   ]
  },
  {
   "cell_type": "code",
   "execution_count": 26,
   "id": "02b7034f",
   "metadata": {},
   "outputs": [
    {
     "name": "stdout",
     "output_type": "stream",
     "text": [
      "(2534, 20)\n",
      "(634, 20)\n",
      "(2534,)\n",
      "(634,)\n"
     ]
    }
   ],
   "source": [
    "x_train,x_test,y_train,y_test = train_test_split(x,y,test_size=0.20)\n",
    "print(x_train.shape)\n",
    "print(x_test.shape)\n",
    "print(y_train.shape)\n",
    "print(y_test.shape)"
   ]
  },
  {
   "cell_type": "markdown",
   "id": "28f0f3c5",
   "metadata": {},
   "source": [
    "#### Import Models"
   ]
  },
  {
   "cell_type": "code",
   "execution_count": 28,
   "id": "75e4dd53",
   "metadata": {},
   "outputs": [],
   "source": [
    "from sklearn.linear_model import LogisticRegression\n",
    "from sklearn.tree import DecisionTreeClassifier\n",
    "from sklearn.ensemble import RandomForestClassifier\n",
    "from sklearn.svm import SVC\n",
    "from sklearn.neighbors import KNeighborsClassifier"
   ]
  },
  {
   "cell_type": "code",
   "execution_count": 30,
   "id": "214493ec",
   "metadata": {},
   "outputs": [],
   "source": [
    "from sklearn.metrics import confusion_matrix,classification_report,accuracy_score"
   ]
  },
  {
   "cell_type": "code",
   "execution_count": 71,
   "id": "66cb0217",
   "metadata": {},
   "outputs": [],
   "source": [
    "def mscore(model):\n",
    "    print('Training Score',model.score(x_train,y_train))\n",
    "    print('Testing Score',model.score(x_test,y_test))\n",
    "    \n",
    "def gen_matrix(y_test,y_pred):\n",
    "    cm = confusion_matrix(y_test,y_pred)\n",
    "    print(cm)\n",
    "    print(classification_report(y_test,y_pred))\n",
    "    print('Accuracy Score',accuracy_score(y_test,y_pred))"
   ]
  },
  {
   "cell_type": "markdown",
   "id": "9eb38850",
   "metadata": {},
   "source": [
    "#### 1) Logistic Regression"
   ]
  },
  {
   "cell_type": "code",
   "execution_count": 33,
   "id": "b5fe4966",
   "metadata": {},
   "outputs": [
    {
     "data": {
      "text/plain": [
       "LogisticRegression(max_iter=1000)"
      ]
     },
     "execution_count": 33,
     "metadata": {},
     "output_type": "execute_result"
    }
   ],
   "source": [
    "m1 = LogisticRegression(max_iter=1000)\n",
    "m1.fit(x_train,y_train)"
   ]
  },
  {
   "cell_type": "code",
   "execution_count": 34,
   "id": "43f5a82a",
   "metadata": {},
   "outputs": [
    {
     "name": "stdout",
     "output_type": "stream",
     "text": [
      "Training Score 0.9076558800315706\n",
      "Testing Score 0.916403785488959\n"
     ]
    }
   ],
   "source": [
    "mscore(m1)"
   ]
  },
  {
   "cell_type": "code",
   "execution_count": 35,
   "id": "8ca98fdf",
   "metadata": {},
   "outputs": [
    {
     "name": "stdout",
     "output_type": "stream",
     "text": [
      "['male' 'male' 'male' 'male' 'female' 'female' 'male' 'male' 'male' 'male'\n",
      " 'male' 'male' 'male' 'male' 'male' 'female' 'male' 'female' 'male' 'male'\n",
      " 'male' 'female' 'male' 'male' 'male' 'male' 'male' 'male' 'male' 'female'\n",
      " 'female' 'female' 'female' 'female' 'female' 'female' 'male' 'female'\n",
      " 'male' 'male' 'female' 'female' 'male' 'female' 'male' 'female' 'male'\n",
      " 'female' 'male' 'male' 'female' 'male' 'male' 'male' 'male' 'male' 'male'\n",
      " 'female' 'female' 'male' 'male' 'male' 'male' 'female' 'male' 'male'\n",
      " 'male' 'male' 'female' 'male' 'male' 'male' 'male' 'female' 'male' 'male'\n",
      " 'male' 'female' 'male' 'female' 'male' 'male' 'male' 'female' 'female'\n",
      " 'female' 'male' 'female' 'female' 'female' 'male' 'female' 'female'\n",
      " 'male' 'male' 'female' 'male' 'male' 'female' 'female' 'male' 'male'\n",
      " 'female' 'male' 'male' 'female' 'female' 'male' 'female' 'female'\n",
      " 'female' 'female' 'male' 'female' 'female' 'female' 'male' 'female'\n",
      " 'male' 'female' 'female' 'female' 'male' 'female' 'female' 'female'\n",
      " 'male' 'female' 'male' 'female' 'female' 'male' 'male' 'male' 'female'\n",
      " 'male' 'male' 'female' 'female' 'male' 'female' 'female' 'female'\n",
      " 'female' 'male' 'male' 'female' 'female' 'male' 'female' 'female'\n",
      " 'female' 'female' 'male' 'female' 'male' 'male' 'female' 'female'\n",
      " 'female' 'female' 'female' 'male' 'male' 'male' 'female' 'male' 'male'\n",
      " 'female' 'male' 'male' 'female' 'female' 'male' 'female' 'female' 'male'\n",
      " 'male' 'male' 'male' 'female' 'female' 'male' 'male' 'male' 'male' 'male'\n",
      " 'female' 'female' 'female' 'female' 'male' 'male' 'male' 'female'\n",
      " 'female' 'male' 'male' 'female' 'female' 'female' 'male' 'female'\n",
      " 'female' 'male' 'male' 'male' 'female' 'male' 'male' 'male' 'male'\n",
      " 'female' 'female' 'female' 'male' 'male' 'female' 'male' 'female' 'male'\n",
      " 'female' 'female' 'female' 'female' 'male' 'male' 'female' 'male'\n",
      " 'female' 'male' 'male' 'female' 'male' 'female' 'female' 'male' 'male'\n",
      " 'male' 'female' 'female' 'male' 'female' 'female' 'female' 'female'\n",
      " 'female' 'female' 'male' 'female' 'female' 'female' 'male' 'male'\n",
      " 'female' 'female' 'female' 'male' 'female' 'male' 'female' 'female'\n",
      " 'male' 'female' 'female' 'female' 'female' 'female' 'male' 'female'\n",
      " 'male' 'female' 'male' 'male' 'female' 'male' 'male' 'female' 'female'\n",
      " 'male' 'female' 'female' 'male' 'female' 'male' 'female' 'female'\n",
      " 'female' 'male' 'female' 'male' 'male' 'male' 'female' 'male' 'male'\n",
      " 'male' 'female' 'female' 'female' 'female' 'male' 'female' 'male'\n",
      " 'female' 'male' 'female' 'female' 'female' 'female' 'male' 'male'\n",
      " 'female' 'male' 'female' 'male' 'female' 'female' 'female' 'female'\n",
      " 'male' 'male' 'female' 'male' 'male' 'female' 'male' 'female' 'male'\n",
      " 'male' 'female' 'male' 'female' 'male' 'male' 'male' 'female' 'female'\n",
      " 'male' 'male' 'male' 'male' 'female' 'male' 'female' 'female' 'female'\n",
      " 'male' 'female' 'male' 'female' 'female' 'female' 'male' 'female' 'male'\n",
      " 'female' 'female' 'male' 'female' 'male' 'female' 'female' 'male' 'male'\n",
      " 'female' 'male' 'female' 'female' 'female' 'female' 'male' 'male'\n",
      " 'female' 'female' 'female' 'male' 'male' 'male' 'male' 'female' 'male'\n",
      " 'male' 'male' 'female' 'female' 'male' 'male' 'male' 'male' 'male' 'male'\n",
      " 'male' 'female' 'female' 'male' 'female' 'female' 'male' 'male' 'male'\n",
      " 'female' 'female' 'male' 'male' 'female' 'male' 'female' 'female' 'male'\n",
      " 'male' 'female' 'female' 'male' 'female' 'male' 'male' 'male' 'male'\n",
      " 'male' 'male' 'female' 'female' 'female' 'female' 'male' 'female' 'male'\n",
      " 'male' 'male' 'female' 'female' 'male' 'female' 'male' 'male' 'male'\n",
      " 'female' 'male' 'male' 'male' 'female' 'male' 'male' 'male' 'male' 'male'\n",
      " 'male' 'female' 'female' 'female' 'female' 'male' 'female' 'male'\n",
      " 'female' 'male' 'male' 'male' 'male' 'female' 'male' 'male' 'female'\n",
      " 'male' 'female' 'male' 'male' 'female' 'female' 'female' 'female' 'male'\n",
      " 'male' 'female' 'male' 'female' 'male' 'male' 'female' 'male' 'male'\n",
      " 'male' 'male' 'female' 'male' 'male' 'male' 'male' 'female' 'female'\n",
      " 'female' 'female' 'male' 'male' 'male' 'male' 'male' 'male' 'female'\n",
      " 'male' 'male' 'male' 'female' 'male' 'female' 'male' 'female' 'male'\n",
      " 'female' 'male' 'female' 'male' 'female' 'female' 'female' 'male' 'male'\n",
      " 'female' 'female' 'male' 'female' 'male' 'male' 'female' 'female'\n",
      " 'female' 'female' 'male' 'female' 'female' 'male' 'male' 'male' 'male'\n",
      " 'male' 'male' 'male' 'female' 'female' 'male' 'male' 'female' 'male'\n",
      " 'female' 'male' 'female' 'male' 'female' 'male' 'female' 'male' 'male'\n",
      " 'male' 'female' 'female' 'male' 'female' 'male' 'male' 'female' 'female'\n",
      " 'male' 'male' 'male' 'male' 'male' 'female' 'male' 'female' 'male'\n",
      " 'female' 'female' 'male' 'male' 'male' 'female' 'male' 'female' 'male'\n",
      " 'male' 'male' 'female' 'male' 'male' 'female' 'male' 'female' 'female'\n",
      " 'male' 'female' 'female' 'female' 'male' 'male' 'male' 'male' 'male'\n",
      " 'male' 'male' 'female' 'female' 'female' 'male' 'male' 'female' 'male'\n",
      " 'female' 'male' 'female' 'male' 'male' 'male' 'female' 'male' 'male'\n",
      " 'male' 'male' 'male' 'female' 'male' 'male' 'male' 'female' 'female'\n",
      " 'female' 'male' 'male' 'male' 'male' 'male' 'male' 'male' 'male']\n"
     ]
    }
   ],
   "source": [
    "ypred_m1 = m1.predict(x_test)\n",
    "print(ypred_m1)"
   ]
  },
  {
   "cell_type": "code",
   "execution_count": 72,
   "id": "9fe4813c",
   "metadata": {
    "scrolled": true
   },
   "outputs": [
    {
     "name": "stdout",
     "output_type": "stream",
     "text": [
      "[[279  42]\n",
      " [ 11 302]]\n",
      "              precision    recall  f1-score   support\n",
      "\n",
      "      female       0.96      0.87      0.91       321\n",
      "        male       0.88      0.96      0.92       313\n",
      "\n",
      "    accuracy                           0.92       634\n",
      "   macro avg       0.92      0.92      0.92       634\n",
      "weighted avg       0.92      0.92      0.92       634\n",
      "\n",
      "Accuracy Score 0.916403785488959\n"
     ]
    }
   ],
   "source": [
    "gen_matrix(y_test,ypred_m1)"
   ]
  },
  {
   "cell_type": "markdown",
   "id": "bf0a50d5",
   "metadata": {},
   "source": [
    "#### 2) Decision Tree Classifier"
   ]
  },
  {
   "cell_type": "code",
   "execution_count": 63,
   "id": "e89af61e",
   "metadata": {},
   "outputs": [
    {
     "data": {
      "text/plain": [
       "DecisionTreeClassifier(max_depth=10, min_samples_split=15)"
      ]
     },
     "execution_count": 63,
     "metadata": {},
     "output_type": "execute_result"
    }
   ],
   "source": [
    "m2 = DecisionTreeClassifier(criterion= 'gini',min_samples_split=15,max_depth=10)\n",
    "m2.fit(x_train,y_train)"
   ]
  },
  {
   "cell_type": "code",
   "execution_count": 64,
   "id": "c9306905",
   "metadata": {},
   "outputs": [
    {
     "name": "stdout",
     "output_type": "stream",
     "text": [
      "Training Score 0.9917127071823204\n",
      "Testing Score 0.9574132492113565\n"
     ]
    }
   ],
   "source": [
    "mscore(m2)"
   ]
  },
  {
   "cell_type": "code",
   "execution_count": 65,
   "id": "8f4b1e4c",
   "metadata": {},
   "outputs": [
    {
     "name": "stdout",
     "output_type": "stream",
     "text": [
      "['male' 'male' 'male' 'male' 'female' 'female' 'male' 'female' 'male'\n",
      " 'male' 'male' 'male' 'female' 'male' 'male' 'female' 'male' 'female'\n",
      " 'male' 'male' 'female' 'female' 'male' 'male' 'male' 'female' 'male'\n",
      " 'male' 'female' 'female' 'female' 'female' 'female' 'female' 'female'\n",
      " 'female' 'male' 'female' 'female' 'female' 'female' 'female' 'male'\n",
      " 'female' 'male' 'female' 'male' 'female' 'female' 'male' 'female'\n",
      " 'female' 'male' 'male' 'male' 'male' 'male' 'female' 'female' 'male'\n",
      " 'male' 'male' 'female' 'female' 'male' 'male' 'male' 'male' 'female'\n",
      " 'female' 'male' 'male' 'male' 'female' 'male' 'male' 'male' 'male' 'male'\n",
      " 'female' 'male' 'male' 'male' 'female' 'female' 'female' 'male' 'female'\n",
      " 'female' 'female' 'male' 'female' 'female' 'male' 'male' 'female' 'male'\n",
      " 'male' 'female' 'female' 'male' 'female' 'female' 'male' 'male' 'female'\n",
      " 'female' 'male' 'male' 'female' 'female' 'female' 'male' 'female'\n",
      " 'female' 'female' 'male' 'female' 'male' 'female' 'female' 'female'\n",
      " 'male' 'male' 'female' 'female' 'male' 'female' 'male' 'female' 'female'\n",
      " 'female' 'female' 'male' 'female' 'male' 'female' 'female' 'female'\n",
      " 'male' 'female' 'female' 'female' 'female' 'male' 'male' 'female'\n",
      " 'female' 'female' 'female' 'female' 'female' 'female' 'male' 'female'\n",
      " 'male' 'male' 'female' 'female' 'female' 'female' 'female' 'male' 'male'\n",
      " 'male' 'female' 'male' 'male' 'female' 'male' 'male' 'female' 'female'\n",
      " 'male' 'female' 'male' 'female' 'male' 'male' 'male' 'female' 'female'\n",
      " 'male' 'male' 'male' 'male' 'male' 'female' 'female' 'female' 'female'\n",
      " 'male' 'male' 'male' 'male' 'female' 'male' 'male' 'female' 'female'\n",
      " 'female' 'male' 'male' 'female' 'female' 'male' 'female' 'female' 'male'\n",
      " 'male' 'female' 'male' 'female' 'female' 'female' 'male' 'male' 'female'\n",
      " 'male' 'female' 'male' 'female' 'female' 'female' 'female' 'male' 'male'\n",
      " 'female' 'male' 'female' 'male' 'male' 'female' 'male' 'female' 'male'\n",
      " 'female' 'male' 'female' 'female' 'female' 'male' 'female' 'male'\n",
      " 'female' 'female' 'female' 'female' 'female' 'female' 'female' 'male'\n",
      " 'male' 'male' 'male' 'female' 'female' 'male' 'female' 'male' 'female'\n",
      " 'female' 'male' 'female' 'female' 'male' 'female' 'female' 'male'\n",
      " 'female' 'male' 'female' 'male' 'male' 'female' 'male' 'male' 'female'\n",
      " 'female' 'male' 'female' 'female' 'male' 'female' 'male' 'female'\n",
      " 'female' 'female' 'male' 'female' 'female' 'male' 'male' 'female' 'male'\n",
      " 'male' 'male' 'female' 'female' 'female' 'female' 'male' 'female' 'male'\n",
      " 'female' 'male' 'female' 'female' 'female' 'female' 'male' 'male'\n",
      " 'female' 'male' 'female' 'male' 'female' 'female' 'male' 'female' 'male'\n",
      " 'male' 'female' 'male' 'male' 'female' 'male' 'female' 'male' 'male'\n",
      " 'male' 'female' 'female' 'male' 'male' 'female' 'female' 'female' 'male'\n",
      " 'male' 'male' 'male' 'female' 'male' 'female' 'female' 'female' 'male'\n",
      " 'female' 'male' 'female' 'female' 'female' 'male' 'female' 'male'\n",
      " 'female' 'female' 'female' 'female' 'male' 'female' 'female' 'male'\n",
      " 'male' 'female' 'male' 'female' 'male' 'female' 'female' 'male' 'male'\n",
      " 'female' 'female' 'female' 'male' 'male' 'male' 'male' 'female' 'female'\n",
      " 'female' 'male' 'female' 'female' 'female' 'male' 'male' 'male' 'male'\n",
      " 'male' 'male' 'female' 'female' 'male' 'male' 'female' 'male' 'male'\n",
      " 'male' 'female' 'female' 'male' 'male' 'female' 'female' 'female'\n",
      " 'female' 'female' 'male' 'female' 'female' 'male' 'female' 'male' 'male'\n",
      " 'male' 'male' 'male' 'male' 'female' 'female' 'female' 'female' 'male'\n",
      " 'female' 'male' 'male' 'male' 'female' 'female' 'male' 'female' 'male'\n",
      " 'male' 'female' 'female' 'female' 'female' 'male' 'female' 'male' 'male'\n",
      " 'male' 'female' 'male' 'female' 'female' 'female' 'male' 'female' 'male'\n",
      " 'female' 'male' 'female' 'male' 'male' 'male' 'male' 'female' 'female'\n",
      " 'male' 'female' 'male' 'female' 'male' 'male' 'female' 'female' 'female'\n",
      " 'female' 'male' 'male' 'female' 'male' 'female' 'male' 'female' 'female'\n",
      " 'male' 'male' 'male' 'male' 'female' 'male' 'male' 'male' 'male' 'female'\n",
      " 'female' 'female' 'female' 'male' 'male' 'male' 'male' 'male' 'male'\n",
      " 'female' 'female' 'male' 'male' 'female' 'male' 'female' 'male' 'female'\n",
      " 'male' 'female' 'male' 'male' 'male' 'female' 'female' 'female' 'male'\n",
      " 'male' 'female' 'female' 'male' 'female' 'male' 'male' 'female' 'female'\n",
      " 'female' 'female' 'male' 'female' 'female' 'male' 'female' 'female'\n",
      " 'male' 'male' 'male' 'male' 'female' 'female' 'male' 'male' 'female'\n",
      " 'female' 'male' 'female' 'female' 'male' 'female' 'male' 'female' 'male'\n",
      " 'female' 'male' 'female' 'female' 'female' 'male' 'male' 'male' 'female'\n",
      " 'female' 'male' 'male' 'male' 'male' 'male' 'female' 'male' 'female'\n",
      " 'male' 'female' 'female' 'male' 'male' 'male' 'female' 'male' 'female'\n",
      " 'male' 'male' 'male' 'female' 'female' 'male' 'female' 'male' 'female'\n",
      " 'female' 'male' 'female' 'female' 'female' 'male' 'male' 'male' 'male'\n",
      " 'male' 'male' 'male' 'female' 'female' 'female' 'male' 'male' 'female'\n",
      " 'male' 'female' 'male' 'female' 'male' 'male' 'male' 'female' 'male'\n",
      " 'male' 'male' 'male' 'male' 'female' 'male' 'female' 'male' 'female'\n",
      " 'female' 'female' 'male' 'male' 'male' 'male' 'male' 'male' 'female'\n",
      " 'male']\n"
     ]
    }
   ],
   "source": [
    "ypred_m2 = m2.predict(x_test)\n",
    "print(ypred_m2)"
   ]
  },
  {
   "cell_type": "code",
   "execution_count": 73,
   "id": "68a3cefb",
   "metadata": {},
   "outputs": [
    {
     "name": "stdout",
     "output_type": "stream",
     "text": [
      "[[307  14]\n",
      " [ 13 300]]\n",
      "              precision    recall  f1-score   support\n",
      "\n",
      "      female       0.96      0.96      0.96       321\n",
      "        male       0.96      0.96      0.96       313\n",
      "\n",
      "    accuracy                           0.96       634\n",
      "   macro avg       0.96      0.96      0.96       634\n",
      "weighted avg       0.96      0.96      0.96       634\n",
      "\n",
      "Accuracy Score 0.9574132492113565\n"
     ]
    }
   ],
   "source": [
    "gen_matrix(y_test,ypred_m2)"
   ]
  },
  {
   "cell_type": "markdown",
   "id": "9ab688e2",
   "metadata": {},
   "source": [
    "#### 3) KNN"
   ]
  },
  {
   "cell_type": "code",
   "execution_count": 93,
   "id": "830a4680",
   "metadata": {},
   "outputs": [
    {
     "data": {
      "text/plain": [
       "KNeighborsClassifier(n_neighbors=2)"
      ]
     },
     "execution_count": 93,
     "metadata": {},
     "output_type": "execute_result"
    }
   ],
   "source": [
    "m3 = KNeighborsClassifier(n_neighbors=2)\n",
    "m3.fit(x_train,y_train)"
   ]
  },
  {
   "cell_type": "code",
   "execution_count": 94,
   "id": "281e3d17",
   "metadata": {},
   "outputs": [
    {
     "name": "stdout",
     "output_type": "stream",
     "text": [
      "Training Score 0.8602999210734017\n",
      "Testing Score 0.7097791798107256\n"
     ]
    }
   ],
   "source": [
    "mscore(m3)"
   ]
  },
  {
   "cell_type": "code",
   "execution_count": 95,
   "id": "cb9a5d4e",
   "metadata": {},
   "outputs": [
    {
     "name": "stdout",
     "output_type": "stream",
     "text": [
      "['male' 'male' 'female' 'female' 'female' 'female' 'male' 'male' 'male'\n",
      " 'male' 'female' 'male' 'male' 'male' 'male' 'female' 'female' 'female'\n",
      " 'male' 'male' 'male' 'female' 'male' 'male' 'female' 'female' 'female'\n",
      " 'male' 'female' 'female' 'female' 'female' 'female' 'female' 'female'\n",
      " 'female' 'male' 'female' 'female' 'female' 'female' 'female' 'female'\n",
      " 'female' 'female' 'female' 'female' 'female' 'female' 'male' 'female'\n",
      " 'female' 'female' 'male' 'female' 'male' 'male' 'female' 'female'\n",
      " 'female' 'male' 'male' 'female' 'female' 'female' 'male' 'male' 'female'\n",
      " 'male' 'female' 'male' 'male' 'male' 'female' 'male' 'male' 'male' 'male'\n",
      " 'male' 'female' 'male' 'male' 'female' 'female' 'female' 'female' 'male'\n",
      " 'female' 'female' 'female' 'female' 'female' 'female' 'male' 'male'\n",
      " 'female' 'female' 'female' 'female' 'female' 'male' 'male' 'female'\n",
      " 'female' 'male' 'female' 'female' 'male' 'male' 'female' 'female' 'male'\n",
      " 'male' 'female' 'female' 'male' 'male' 'female' 'male' 'female' 'male'\n",
      " 'female' 'female' 'female' 'female' 'female' 'female' 'female' 'male'\n",
      " 'female' 'female' 'female' 'male' 'female' 'male' 'male' 'male' 'female'\n",
      " 'female' 'male' 'female' 'female' 'female' 'female' 'male' 'female'\n",
      " 'female' 'female' 'female' 'female' 'female' 'female' 'male' 'male'\n",
      " 'female' 'male' 'female' 'female' 'female' 'female' 'male' 'female'\n",
      " 'male' 'female' 'male' 'female' 'male' 'male' 'female' 'male' 'female'\n",
      " 'female' 'female' 'female' 'female' 'female' 'male' 'male' 'male' 'male'\n",
      " 'female' 'female' 'male' 'male' 'female' 'female' 'female' 'female'\n",
      " 'female' 'female' 'female' 'female' 'male' 'male' 'male' 'female' 'male'\n",
      " 'female' 'female' 'female' 'female' 'female' 'female' 'female' 'female'\n",
      " 'female' 'male' 'female' 'female' 'male' 'male' 'male' 'female' 'female'\n",
      " 'female' 'female' 'female' 'female' 'male' 'female' 'male' 'female'\n",
      " 'female' 'female' 'male' 'female' 'female' 'female' 'female' 'female'\n",
      " 'male' 'female' 'female' 'male' 'female' 'female' 'female' 'female'\n",
      " 'male' 'male' 'female' 'male' 'female' 'female' 'female' 'female'\n",
      " 'female' 'female' 'male' 'female' 'female' 'female' 'male' 'female'\n",
      " 'female' 'female' 'male' 'male' 'female' 'male' 'female' 'female' 'male'\n",
      " 'male' 'female' 'female' 'female' 'female' 'female' 'female' 'male'\n",
      " 'male' 'female' 'female' 'female' 'female' 'male' 'female' 'female'\n",
      " 'female' 'female' 'female' 'male' 'female' 'male' 'female' 'female'\n",
      " 'female' 'female' 'female' 'male' 'male' 'male' 'female' 'female' 'male'\n",
      " 'male' 'female' 'female' 'female' 'female' 'male' 'female' 'male' 'male'\n",
      " 'male' 'female' 'female' 'female' 'female' 'male' 'female' 'male' 'male'\n",
      " 'female' 'female' 'female' 'female' 'female' 'female' 'female' 'female'\n",
      " 'female' 'male' 'male' 'female' 'female' 'female' 'male' 'male' 'female'\n",
      " 'female' 'female' 'male' 'female' 'male' 'female' 'female' 'male'\n",
      " 'female' 'female' 'female' 'female' 'female' 'female' 'male' 'female'\n",
      " 'male' 'female' 'male' 'female' 'female' 'female' 'female' 'female'\n",
      " 'female' 'female' 'female' 'female' 'male' 'female' 'female' 'female'\n",
      " 'female' 'female' 'female' 'male' 'female' 'female' 'female' 'female'\n",
      " 'male' 'female' 'female' 'female' 'male' 'female' 'female' 'female'\n",
      " 'female' 'female' 'male' 'female' 'female' 'female' 'female' 'female'\n",
      " 'female' 'male' 'female' 'male' 'male' 'male' 'female' 'male' 'female'\n",
      " 'female' 'female' 'male' 'female' 'male' 'female' 'male' 'female'\n",
      " 'female' 'male' 'male' 'female' 'female' 'female' 'female' 'female'\n",
      " 'female' 'female' 'female' 'female' 'female' 'female' 'male' 'female'\n",
      " 'male' 'female' 'female' 'male' 'male' 'male' 'male' 'male' 'male' 'male'\n",
      " 'female' 'female' 'male' 'female' 'female' 'male' 'female' 'female'\n",
      " 'male' 'male' 'male' 'female' 'male' 'female' 'female' 'male' 'male'\n",
      " 'female' 'female' 'female' 'female' 'female' 'female' 'female' 'female'\n",
      " 'female' 'male' 'female' 'male' 'male' 'female' 'female' 'female'\n",
      " 'female' 'male' 'female' 'female' 'male' 'female' 'male' 'female'\n",
      " 'female' 'female' 'male' 'female' 'male' 'female' 'female' 'female'\n",
      " 'female' 'female' 'male' 'male' 'male' 'female' 'male' 'male' 'female'\n",
      " 'male' 'female' 'female' 'female' 'female' 'male' 'female' 'male'\n",
      " 'female' 'male' 'male' 'female' 'male' 'female' 'male' 'female' 'male'\n",
      " 'female' 'male' 'male' 'male' 'female' 'male' 'female' 'female' 'female'\n",
      " 'female' 'female' 'male' 'male' 'female' 'female' 'female' 'female'\n",
      " 'female' 'female' 'female' 'female' 'female' 'female' 'female' 'female'\n",
      " 'female' 'male' 'female' 'female' 'male' 'female' 'male' 'female'\n",
      " 'female' 'female' 'female' 'male' 'male' 'female' 'female' 'female'\n",
      " 'male' 'female' 'female' 'female' 'male' 'male' 'female' 'female'\n",
      " 'female' 'female' 'male' 'male' 'female' 'female' 'female' 'female'\n",
      " 'male' 'male' 'male' 'female' 'female' 'female' 'male' 'female' 'male'\n",
      " 'female' 'male' 'male' 'male' 'male' 'female' 'female' 'female' 'male'\n",
      " 'male' 'male' 'female' 'female' 'female' 'female' 'male' 'female'\n",
      " 'female' 'male' 'female' 'male' 'female' 'female' 'male' 'male' 'male'\n",
      " 'female' 'female' 'male' 'female' 'female' 'male' 'male' 'male' 'female'\n",
      " 'female' 'female' 'female' 'female' 'female' 'male' 'female' 'female'\n",
      " 'male' 'male' 'male' 'male' 'female' 'female' 'female' 'male' 'female'\n",
      " 'female' 'female' 'female' 'male' 'male' 'male' 'female' 'male' 'female'\n",
      " 'male' 'male']\n"
     ]
    }
   ],
   "source": [
    "ypred_m3 = m3.predict(x_test)\n",
    "print(ypred_m3)"
   ]
  },
  {
   "cell_type": "code",
   "execution_count": 96,
   "id": "71a6a6aa",
   "metadata": {},
   "outputs": [
    {
     "name": "stdout",
     "output_type": "stream",
     "text": [
      "[[273  48]\n",
      " [136 177]]\n",
      "              precision    recall  f1-score   support\n",
      "\n",
      "      female       0.67      0.85      0.75       321\n",
      "        male       0.79      0.57      0.66       313\n",
      "\n",
      "    accuracy                           0.71       634\n",
      "   macro avg       0.73      0.71      0.70       634\n",
      "weighted avg       0.73      0.71      0.70       634\n",
      "\n",
      "Accuracy Score 0.7097791798107256\n"
     ]
    }
   ],
   "source": [
    "gen_matrix(y_test,ypred_m3)"
   ]
  },
  {
   "cell_type": "markdown",
   "id": "78aa4880",
   "metadata": {},
   "source": [
    "#### 4) Support Vector Classifier"
   ]
  },
  {
   "cell_type": "code",
   "execution_count": null,
   "id": "6a934a2b",
   "metadata": {},
   "outputs": [],
   "source": [
    "m4 = SVC(kernel='linear',C=1)\n",
    "m4.fit(x_train,y_train)"
   ]
  },
  {
   "cell_type": "code",
   "execution_count": 98,
   "id": "283664c9",
   "metadata": {},
   "outputs": [
    {
     "name": "stdout",
     "output_type": "stream",
     "text": [
      "Training Score 0.9183109707971586\n",
      "Testing Score 0.9321766561514195\n"
     ]
    }
   ],
   "source": [
    "mscore(m4)"
   ]
  },
  {
   "cell_type": "code",
   "execution_count": 99,
   "id": "3d7cb57d",
   "metadata": {},
   "outputs": [
    {
     "name": "stdout",
     "output_type": "stream",
     "text": [
      "['male' 'male' 'male' 'male' 'female' 'female' 'male' 'male' 'male' 'male'\n",
      " 'male' 'male' 'female' 'male' 'male' 'male' 'male' 'female' 'male' 'male'\n",
      " 'male' 'male' 'male' 'male' 'male' 'male' 'male' 'male' 'male' 'female'\n",
      " 'female' 'female' 'female' 'female' 'female' 'female' 'male' 'female'\n",
      " 'male' 'male' 'female' 'female' 'male' 'female' 'male' 'female' 'male'\n",
      " 'female' 'male' 'male' 'female' 'male' 'male' 'male' 'male' 'male' 'male'\n",
      " 'female' 'female' 'male' 'male' 'male' 'male' 'female' 'male' 'male'\n",
      " 'male' 'male' 'female' 'male' 'male' 'male' 'male' 'female' 'male' 'male'\n",
      " 'male' 'male' 'male' 'female' 'male' 'male' 'male' 'female' 'female'\n",
      " 'female' 'male' 'female' 'female' 'female' 'male' 'female' 'female'\n",
      " 'male' 'male' 'female' 'male' 'male' 'female' 'female' 'male' 'male'\n",
      " 'female' 'male' 'male' 'female' 'female' 'male' 'male' 'female' 'female'\n",
      " 'female' 'male' 'female' 'female' 'female' 'male' 'female' 'male'\n",
      " 'female' 'female' 'female' 'male' 'male' 'female' 'female' 'male'\n",
      " 'female' 'male' 'female' 'female' 'male' 'male' 'male' 'female' 'male'\n",
      " 'male' 'female' 'female' 'male' 'female' 'female' 'female' 'female'\n",
      " 'male' 'male' 'female' 'female' 'female' 'female' 'female' 'female'\n",
      " 'female' 'male' 'female' 'male' 'male' 'female' 'female' 'female'\n",
      " 'female' 'female' 'male' 'male' 'male' 'female' 'male' 'male' 'female'\n",
      " 'male' 'male' 'female' 'female' 'male' 'female' 'female' 'male' 'male'\n",
      " 'male' 'male' 'female' 'female' 'male' 'male' 'male' 'male' 'male'\n",
      " 'female' 'female' 'female' 'female' 'male' 'male' 'male' 'female'\n",
      " 'female' 'male' 'male' 'female' 'female' 'female' 'male' 'female'\n",
      " 'female' 'female' 'male' 'male' 'female' 'male' 'male' 'female' 'male'\n",
      " 'female' 'female' 'female' 'male' 'male' 'female' 'male' 'female' 'male'\n",
      " 'female' 'female' 'female' 'female' 'male' 'male' 'female' 'male'\n",
      " 'female' 'male' 'male' 'female' 'male' 'female' 'male' 'male' 'male'\n",
      " 'male' 'female' 'female' 'male' 'female' 'female' 'female' 'female'\n",
      " 'female' 'female' 'male' 'female' 'female' 'male' 'male' 'male' 'female'\n",
      " 'male' 'female' 'male' 'female' 'male' 'female' 'female' 'male' 'female'\n",
      " 'female' 'female' 'female' 'female' 'male' 'female' 'male' 'female'\n",
      " 'male' 'male' 'female' 'male' 'male' 'female' 'female' 'male' 'female'\n",
      " 'female' 'male' 'female' 'male' 'female' 'female' 'female' 'male'\n",
      " 'female' 'male' 'male' 'male' 'female' 'male' 'male' 'male' 'female'\n",
      " 'female' 'female' 'female' 'male' 'female' 'male' 'female' 'male'\n",
      " 'female' 'female' 'female' 'female' 'male' 'male' 'female' 'male'\n",
      " 'female' 'male' 'female' 'female' 'female' 'female' 'male' 'male'\n",
      " 'female' 'male' 'male' 'female' 'male' 'female' 'male' 'male' 'female'\n",
      " 'male' 'female' 'male' 'male' 'male' 'female' 'female' 'male' 'male'\n",
      " 'female' 'male' 'female' 'male' 'female' 'female' 'female' 'male'\n",
      " 'female' 'male' 'female' 'female' 'female' 'male' 'female' 'male'\n",
      " 'female' 'female' 'male' 'female' 'male' 'female' 'female' 'male' 'male'\n",
      " 'female' 'male' 'female' 'female' 'female' 'female' 'male' 'male'\n",
      " 'female' 'female' 'female' 'male' 'male' 'male' 'male' 'female' 'male'\n",
      " 'female' 'male' 'female' 'female' 'male' 'male' 'male' 'male' 'male'\n",
      " 'male' 'male' 'female' 'female' 'male' 'female' 'female' 'male' 'male'\n",
      " 'male' 'female' 'female' 'male' 'male' 'female' 'male' 'female' 'female'\n",
      " 'male' 'male' 'female' 'female' 'male' 'female' 'male' 'male' 'male'\n",
      " 'male' 'male' 'male' 'female' 'female' 'female' 'female' 'male' 'female'\n",
      " 'male' 'male' 'male' 'female' 'female' 'male' 'female' 'male' 'male'\n",
      " 'male' 'female' 'male' 'male' 'male' 'female' 'male' 'male' 'male' 'male'\n",
      " 'male' 'male' 'female' 'female' 'male' 'female' 'male' 'female' 'male'\n",
      " 'female' 'male' 'male' 'male' 'male' 'female' 'female' 'male' 'female'\n",
      " 'male' 'female' 'male' 'male' 'female' 'female' 'female' 'male' 'male'\n",
      " 'male' 'female' 'male' 'female' 'male' 'male' 'female' 'male' 'male'\n",
      " 'male' 'male' 'female' 'male' 'male' 'male' 'male' 'female' 'female'\n",
      " 'female' 'female' 'male' 'male' 'male' 'male' 'male' 'male' 'female'\n",
      " 'male' 'male' 'male' 'female' 'male' 'female' 'male' 'female' 'male'\n",
      " 'female' 'male' 'female' 'male' 'female' 'female' 'female' 'male' 'male'\n",
      " 'female' 'female' 'male' 'female' 'male' 'male' 'female' 'female'\n",
      " 'female' 'female' 'male' 'female' 'female' 'male' 'male' 'male' 'male'\n",
      " 'male' 'female' 'male' 'female' 'female' 'male' 'male' 'female' 'male'\n",
      " 'female' 'male' 'female' 'male' 'female' 'male' 'female' 'male' 'male'\n",
      " 'male' 'female' 'female' 'male' 'female' 'male' 'male' 'female' 'female'\n",
      " 'male' 'male' 'male' 'male' 'male' 'female' 'male' 'female' 'male'\n",
      " 'female' 'female' 'male' 'male' 'male' 'female' 'male' 'female' 'male'\n",
      " 'male' 'male' 'female' 'male' 'male' 'female' 'male' 'female' 'female'\n",
      " 'male' 'female' 'female' 'female' 'male' 'male' 'male' 'male' 'male'\n",
      " 'male' 'male' 'female' 'female' 'female' 'male' 'male' 'female' 'male'\n",
      " 'female' 'male' 'female' 'male' 'male' 'male' 'female' 'male' 'male'\n",
      " 'male' 'male' 'male' 'female' 'male' 'female' 'male' 'female' 'female'\n",
      " 'female' 'male' 'male' 'male' 'male' 'male' 'male' 'female' 'male']\n"
     ]
    }
   ],
   "source": [
    "ypred_m4 = m4.predict(x_test)\n",
    "print(ypred_m4)"
   ]
  },
  {
   "cell_type": "code",
   "execution_count": 100,
   "id": "9d0ae1af",
   "metadata": {},
   "outputs": [
    {
     "name": "stdout",
     "output_type": "stream",
     "text": [
      "[[284  37]\n",
      " [  6 307]]\n",
      "              precision    recall  f1-score   support\n",
      "\n",
      "      female       0.98      0.88      0.93       321\n",
      "        male       0.89      0.98      0.93       313\n",
      "\n",
      "    accuracy                           0.93       634\n",
      "   macro avg       0.94      0.93      0.93       634\n",
      "weighted avg       0.94      0.93      0.93       634\n",
      "\n",
      "Accuracy Score 0.9321766561514195\n"
     ]
    }
   ],
   "source": [
    "gen_matrix(y_test,ypred_m4)"
   ]
  },
  {
   "cell_type": "markdown",
   "id": "9eee911c",
   "metadata": {},
   "source": [
    "#### 5) Random Forest Classifier"
   ]
  },
  {
   "cell_type": "code",
   "execution_count": 118,
   "id": "ebb82946",
   "metadata": {},
   "outputs": [
    {
     "data": {
      "text/plain": [
       "RandomForestClassifier(max_depth=10, min_samples_split=15, random_state=5)"
      ]
     },
     "execution_count": 118,
     "metadata": {},
     "output_type": "execute_result"
    }
   ],
   "source": [
    "m5 = RandomForestClassifier(criterion = 'gini',min_samples_split = 15,max_depth = 10,random_state = 5)\n",
    "m5.fit(x_train,y_train)"
   ]
  },
  {
   "cell_type": "code",
   "execution_count": 119,
   "id": "2ebc5a67",
   "metadata": {},
   "outputs": [
    {
     "name": "stdout",
     "output_type": "stream",
     "text": [
      "Training Score 0.9936858721389108\n",
      "Testing Score 0.9826498422712934\n"
     ]
    }
   ],
   "source": [
    "mscore(m5)"
   ]
  },
  {
   "cell_type": "code",
   "execution_count": 113,
   "id": "220ad16d",
   "metadata": {},
   "outputs": [
    {
     "name": "stdout",
     "output_type": "stream",
     "text": [
      "['male' 'male' 'male' 'male' 'female' 'female' 'male' 'female' 'male'\n",
      " 'male' 'male' 'male' 'female' 'male' 'male' 'female' 'male' 'female'\n",
      " 'male' 'male' 'male' 'male' 'male' 'male' 'male' 'male' 'male' 'male'\n",
      " 'female' 'female' 'female' 'female' 'female' 'female' 'female' 'female'\n",
      " 'male' 'female' 'female' 'female' 'female' 'female' 'male' 'female'\n",
      " 'male' 'female' 'male' 'female' 'female' 'male' 'female' 'female' 'male'\n",
      " 'male' 'male' 'male' 'male' 'female' 'female' 'male' 'male' 'male' 'male'\n",
      " 'female' 'male' 'male' 'male' 'male' 'female' 'female' 'male' 'male'\n",
      " 'male' 'female' 'male' 'male' 'male' 'female' 'male' 'female' 'male'\n",
      " 'male' 'male' 'female' 'female' 'female' 'male' 'female' 'female'\n",
      " 'female' 'male' 'female' 'female' 'male' 'male' 'female' 'male' 'male'\n",
      " 'female' 'female' 'male' 'male' 'female' 'male' 'male' 'female' 'female'\n",
      " 'male' 'male' 'female' 'female' 'female' 'male' 'female' 'female'\n",
      " 'female' 'male' 'female' 'male' 'female' 'female' 'female' 'male' 'male'\n",
      " 'female' 'female' 'male' 'female' 'male' 'female' 'female' 'female'\n",
      " 'female' 'male' 'female' 'male' 'female' 'female' 'female' 'male'\n",
      " 'female' 'female' 'female' 'female' 'male' 'male' 'female' 'female'\n",
      " 'female' 'female' 'female' 'female' 'female' 'male' 'female' 'male'\n",
      " 'male' 'female' 'female' 'female' 'female' 'female' 'male' 'male' 'male'\n",
      " 'female' 'male' 'male' 'female' 'male' 'male' 'female' 'female' 'male'\n",
      " 'female' 'female' 'male' 'male' 'male' 'male' 'female' 'female' 'male'\n",
      " 'male' 'male' 'male' 'male' 'female' 'female' 'female' 'female' 'male'\n",
      " 'male' 'male' 'male' 'female' 'male' 'male' 'female' 'female' 'female'\n",
      " 'male' 'female' 'female' 'female' 'male' 'female' 'female' 'male' 'male'\n",
      " 'female' 'male' 'female' 'female' 'female' 'male' 'male' 'female' 'male'\n",
      " 'female' 'male' 'female' 'female' 'female' 'female' 'male' 'male'\n",
      " 'female' 'male' 'female' 'male' 'male' 'female' 'male' 'female' 'male'\n",
      " 'female' 'male' 'female' 'female' 'female' 'male' 'female' 'male'\n",
      " 'female' 'female' 'female' 'female' 'male' 'female' 'female' 'male'\n",
      " 'male' 'male' 'female' 'female' 'female' 'male' 'female' 'male' 'female'\n",
      " 'female' 'male' 'female' 'female' 'female' 'female' 'female' 'male'\n",
      " 'female' 'male' 'female' 'male' 'male' 'female' 'male' 'male' 'female'\n",
      " 'female' 'male' 'female' 'female' 'male' 'female' 'male' 'female'\n",
      " 'female' 'female' 'male' 'female' 'female' 'male' 'male' 'female' 'male'\n",
      " 'male' 'male' 'female' 'female' 'female' 'female' 'male' 'female' 'male'\n",
      " 'female' 'male' 'female' 'female' 'female' 'female' 'male' 'male'\n",
      " 'female' 'male' 'female' 'male' 'female' 'female' 'female' 'female'\n",
      " 'male' 'male' 'female' 'male' 'male' 'female' 'male' 'female' 'male'\n",
      " 'male' 'female' 'female' 'female' 'male' 'male' 'female' 'female'\n",
      " 'female' 'male' 'male' 'female' 'male' 'female' 'male' 'female' 'female'\n",
      " 'female' 'male' 'female' 'male' 'female' 'female' 'female' 'male'\n",
      " 'female' 'male' 'female' 'female' 'female' 'female' 'male' 'female'\n",
      " 'female' 'male' 'male' 'female' 'male' 'female' 'female' 'female'\n",
      " 'female' 'male' 'male' 'female' 'female' 'female' 'male' 'male' 'male'\n",
      " 'male' 'female' 'female' 'female' 'male' 'female' 'female' 'female'\n",
      " 'female' 'male' 'male' 'male' 'male' 'male' 'female' 'female' 'male'\n",
      " 'male' 'female' 'male' 'male' 'male' 'female' 'female' 'male' 'male'\n",
      " 'female' 'female' 'female' 'female' 'female' 'male' 'female' 'female'\n",
      " 'male' 'female' 'male' 'male' 'male' 'male' 'male' 'male' 'female'\n",
      " 'female' 'female' 'female' 'male' 'female' 'male' 'male' 'male' 'female'\n",
      " 'female' 'male' 'female' 'female' 'male' 'female' 'female' 'female'\n",
      " 'female' 'male' 'female' 'male' 'male' 'male' 'female' 'male' 'female'\n",
      " 'female' 'female' 'male' 'female' 'male' 'female' 'male' 'female' 'male'\n",
      " 'male' 'male' 'male' 'female' 'female' 'male' 'female' 'male' 'female'\n",
      " 'male' 'male' 'female' 'female' 'female' 'female' 'male' 'male' 'female'\n",
      " 'male' 'female' 'male' 'female' 'female' 'male' 'male' 'male' 'male'\n",
      " 'female' 'male' 'male' 'male' 'male' 'female' 'female' 'female' 'female'\n",
      " 'male' 'male' 'male' 'male' 'male' 'male' 'female' 'female' 'male' 'male'\n",
      " 'female' 'male' 'female' 'male' 'female' 'male' 'female' 'male' 'female'\n",
      " 'male' 'female' 'female' 'female' 'male' 'male' 'female' 'female' 'male'\n",
      " 'female' 'male' 'male' 'female' 'female' 'female' 'female' 'male'\n",
      " 'female' 'female' 'male' 'male' 'female' 'male' 'male' 'male' 'male'\n",
      " 'female' 'female' 'male' 'male' 'female' 'female' 'female' 'male'\n",
      " 'female' 'male' 'female' 'male' 'female' 'male' 'female' 'male' 'female'\n",
      " 'female' 'female' 'male' 'male' 'male' 'female' 'female' 'male' 'male'\n",
      " 'male' 'male' 'male' 'female' 'male' 'female' 'male' 'female' 'female'\n",
      " 'male' 'male' 'male' 'female' 'male' 'female' 'male' 'male' 'male'\n",
      " 'female' 'female' 'male' 'female' 'male' 'female' 'female' 'male'\n",
      " 'female' 'female' 'female' 'male' 'male' 'male' 'male' 'male' 'male'\n",
      " 'male' 'female' 'female' 'female' 'male' 'male' 'female' 'male' 'female'\n",
      " 'male' 'female' 'male' 'male' 'male' 'female' 'male' 'male' 'male' 'male'\n",
      " 'male' 'female' 'male' 'female' 'male' 'female' 'female' 'female' 'male'\n",
      " 'male' 'male' 'male' 'male' 'male' 'female' 'male']\n"
     ]
    }
   ],
   "source": [
    "ypred_m5 = m5.predict(x_test)\n",
    "print(ypred_m5)"
   ]
  },
  {
   "cell_type": "code",
   "execution_count": 114,
   "id": "3e79bba2",
   "metadata": {},
   "outputs": [
    {
     "name": "stdout",
     "output_type": "stream",
     "text": [
      "[[317   4]\n",
      " [  7 306]]\n",
      "              precision    recall  f1-score   support\n",
      "\n",
      "      female       0.98      0.99      0.98       321\n",
      "        male       0.99      0.98      0.98       313\n",
      "\n",
      "    accuracy                           0.98       634\n",
      "   macro avg       0.98      0.98      0.98       634\n",
      "weighted avg       0.98      0.98      0.98       634\n",
      "\n",
      "Accuracy Score 0.9826498422712934\n"
     ]
    }
   ],
   "source": [
    "gen_matrix(y_test,ypred_m5)"
   ]
  },
  {
   "cell_type": "code",
   "execution_count": null,
   "id": "650ab01f",
   "metadata": {},
   "outputs": [],
   "source": []
  }
 ],
 "metadata": {
  "kernelspec": {
   "display_name": "Python 3 (ipykernel)",
   "language": "python",
   "name": "python3"
  },
  "language_info": {
   "codemirror_mode": {
    "name": "ipython",
    "version": 3
   },
   "file_extension": ".py",
   "mimetype": "text/x-python",
   "name": "python",
   "nbconvert_exporter": "python",
   "pygments_lexer": "ipython3",
   "version": "3.9.12"
  }
 },
 "nbformat": 4,
 "nbformat_minor": 5
}
